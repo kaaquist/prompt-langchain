{
 "cells": [
  {
   "cell_type": "markdown",
   "id": "637d72b6-e588-4125-9e18-0343fd7b7548",
   "metadata": {},
   "source": [
    "## Imports and setup"
   ]
  },
  {
   "cell_type": "code",
   "execution_count": null,
   "id": "27a6e813-084a-4b0e-8873-27301df7e548",
   "metadata": {},
   "outputs": [],
   "source": [
    "from langchain_groq import ChatGroq\n",
    "from langchain.prompts import PromptTemplate\n",
    "\n",
    "llm = ChatGroq(\n",
    "    temperature=0,\n",
    "    groq_api_key=\"<your api key>\",\n",
    "    model_name=\"llama-3.3-70b-versatile\"\n",
    ")"
   ]
  },
  {
   "cell_type": "markdown",
   "id": "37aea3af-a025-41a8-9c11-293b7f3de45a",
   "metadata": {},
   "source": [
    "## Basic prompting - Single Turn prompt"
   ]
  },
  {
   "cell_type": "code",
   "execution_count": null,
   "id": "2c1a722d-46bc-4a7e-ab82-89eccd334334",
   "metadata": {},
   "outputs": [],
   "source": [
    "llm.invoke(\"how do one person fly?\").content"
   ]
  },
  {
   "cell_type": "markdown",
   "id": "1ffe242d-8e70-4885-a6c5-c91ae15d430d",
   "metadata": {},
   "source": [
    "### With inputs"
   ]
  },
  {
   "cell_type": "code",
   "execution_count": null,
   "id": "737e8e46-6bba-4c5b-8d14-200cc626d955",
   "metadata": {},
   "outputs": [],
   "source": [
    "question_prompt = PromptTemplate(\n",
    "    input_variables=[\"topic\"],\n",
    "    template=\"Can you please tell me about the following topic: {topic}\"\n",
    ")\n",
    "chain = question_prompt | llm\n",
    "inputs = {\"topic\": \"flying\"}\n",
    "output = chain.invoke(inputs).content\n",
    "print(output)"
   ]
  },
  {
   "cell_type": "markdown",
   "id": "c2d94388-a24c-4ba6-bf1d-e2d2e2747da1",
   "metadata": {},
   "source": [
    "## Multi-turn prompting"
   ]
  },
  {
   "cell_type": "code",
   "execution_count": null,
   "id": "d368f548-6777-4362-acaa-b0718790585e",
   "metadata": {},
   "outputs": [],
   "source": [
    "from langchain.chains import ConversationChain\n",
    "from langchain.memory import ConversationBufferMemory\n",
    "\n",
    "conversation = ConversationChain(\n",
    "    llm=llm,\n",
    "    verbose=True,\n",
    "    memory=ConversationBufferMemory()\n",
    ")\n",
    "\n",
    "conversation.predict(input=\"What is the meaning of life?\")\n",
    "conversation.predict(input=\"Is there such thing as eternal life?\")\n",
    "conversation.predict(input=\"explain life in one sentence\")"
   ]
  },
  {
   "cell_type": "markdown",
   "id": "24ca73d9-0ad1-4b7c-8e85-5721e270cf5e",
   "metadata": {},
   "source": [
    "## Zero-shot prompting "
   ]
  },
  {
   "cell_type": "code",
   "execution_count": 20,
   "id": "410c2ef3-b3f8-496c-848a-6ce609b03714",
   "metadata": {},
   "outputs": [],
   "source": [
    "def create_chain(prompt_template: str) -> any:\n",
    "    tmp_template = PromptTemplate.from_template(\n",
    "        prompt_template\n",
    "    )\n",
    "    return tmp_template | llm"
   ]
  },
  {
   "cell_type": "code",
   "execution_count": 33,
   "id": "38813d3d-470d-43ec-ae63-5a46e758eb66",
   "metadata": {},
   "outputs": [
    {
     "name": "stdout",
     "output_type": "stream",
     "text": [
      "Text: I'm super sad that we got such bad weater,\n",
      "\n",
      "Sentiment: Negative\n",
      "\n",
      "Text: Sunny days make me happy,\n",
      "\n",
      "Sentiment: Positive\n",
      "\n",
      "Text: the rose is red,\n",
      "\n",
      "Sentiment: Neutral\n",
      "\n"
     ]
    }
   ],
   "source": [
    "zero_prompt_template = \"\"\"Classify the sentiment of the following text as neutral, positive or negative\n",
    "Don't explain your reasoning, just provide the classification\n",
    "\n",
    "Text: {text}\n",
    "Sentiment: \"\"\"\n",
    "\n",
    "texts = [\n",
    "    \"I'm super sad that we got such bad weater\",\n",
    "    \"Sunny days make me happy\",\n",
    "    \"the rose is red\"\n",
    "]\n",
    "\n",
    "zero_chain = create_chain(zero_prompt_template)\n",
    "\n",
    "for text in texts:\n",
    "    rest = zero_chain.invoke({\"text\": text}).content\n",
    "    print(f\"Text: {text},\\n\\nSentiment: {rest}\\n\")"
   ]
  },
  {
   "cell_type": "markdown",
   "id": "c3ffdafa-d772-421a-9331-e9da398f1942",
   "metadata": {},
   "source": [
    "## JSON structure output"
   ]
  },
  {
   "cell_type": "code",
   "execution_count": 32,
   "id": "2f9e5c4c-2ab4-4fc5-9943-8e917f326b46",
   "metadata": {},
   "outputs": [
    {
     "name": "stdout",
     "output_type": "stream",
     "text": [
      "Response: {'text': \"I'm super sad that we got such bad weather\", 'classification': 'negative'}\n",
      "Response: {'text': 'Sunny days make me happy', 'classification': 'positive'}\n",
      "Response: {'text': 'the rose is red', 'classification': 'positive'}\n"
     ]
    }
   ],
   "source": [
    "from langchain_core.pydantic_v1 import BaseModel, Field\n",
    "from langchain_core.output_parsers import JsonOutputParser\n",
    "\n",
    "\n",
    "class SentimentAnalysis(BaseModel):\n",
    "    text: str = Field(description=\"original text\")\n",
    "    classification: str = Field(description=\"classification of the text\")\n",
    "\n",
    "parser = JsonOutputParser(pydantic_object=SentimentAnalysis)\n",
    "\n",
    "zero_prompt_structer_template = \"\"\"Classify the sentiment of the following text as neutral, positive or negative\n",
    "Don't explain your reasoning, just provide the classification.\\n{format_instructions}\\n{text}\\n\"\"\"\n",
    "\n",
    "prompt = PromptTemplate(\n",
    "    template=zero_prompt_structer_template,\n",
    "    input_variables=[\"text\"],\n",
    "    partial_variables={\"format_instructions\": parser.get_format_instructions()},\n",
    ")\n",
    "\n",
    "zero_chain_structure = prompt | llm | parser\n",
    "\n",
    "for text in texts:\n",
    "    rest = zero_chain_structure.invoke({\"text\": text})\n",
    "    print(f\"Response: {rest}\")"
   ]
  },
  {
   "cell_type": "markdown",
   "id": "8ab61fae-d52a-476d-a664-d5927ff52da6",
   "metadata": {},
   "source": [
    "## COT prompting"
   ]
  },
  {
   "cell_type": "code",
   "execution_count": 35,
   "id": "c3ef99eb-d78b-4fa4-96a9-b4c2f87e30bd",
   "metadata": {},
   "outputs": [
    {
     "name": "stdout",
     "output_type": "stream",
     "text": [
      "Std: The area of a circle is calculated using the formula A = πr², where A is the area and r is the radius. \n",
      "\n",
      "A = π(10)²\n",
      "A = 3.14 * 100\n",
      "A = 314 cm²\n",
      "\n",
      "COT: To calculate the area of a circle:\n",
      "1. Recall the formula: Area = πr²\n",
      "2. Plug in the radius (r = 10 cm)\n",
      "3. Calculate: Area = π(10)²\n",
      "4. Simplify: Area = π(100)\n",
      "5. Approximate π as 3.14: Area ≈ 3.14 * 100\n",
      "6. Calculate: Area ≈ 314 cm²\n",
      "\n",
      "The area of the circle is approximately 314 cm².\n",
      "\n"
     ]
    }
   ],
   "source": [
    "standard_prompt = PromptTemplate(\n",
    "    input_variables=[\"input\"],\n",
    "    template=\"Answer the following question conciesly: {input}\"\n",
    ")\n",
    "\n",
    "# Chanin of thought\n",
    "cot_prompt = PromptTemplate(\n",
    "    input_variables=[\"input\"],\n",
    "    template=\"Answer the following question step by step conciesly: {input}\"\n",
    ")\n",
    "\n",
    "question = \"I would like to calculate the area of a circle that has a radius of 10 cm\"\n",
    "cot_chain = cot_prompt | llm\n",
    "std_chain = standard_prompt | llm\n",
    "\n",
    "print(f\"Std: {std_chain.invoke(question).content}\\n\\nCOT: {cot_chain.invoke(question).content}\\n\")\n"
   ]
  },
  {
   "cell_type": "code",
   "execution_count": 37,
   "id": "b7c6d42a-1686-4bd8-bb39-60146d55588b",
   "metadata": {},
   "outputs": [
    {
     "name": "stdout",
     "output_type": "stream",
     "text": [
      "Advanced COT: To solve this problem, I will break it down into steps.\n",
      "\n",
      "**Step 1: Calculate the area of the circle**\n",
      "1. Question: What is the area of a circle with a radius of 10 cm?\n",
      "2. Formula: The formula to calculate the area of a circle is A = πr^2, where A is the area and r is the radius.\n",
      "3. Answer: A = π(10)^2 = 3.14159 * 100 = 314.159 cm^2\n",
      "4. Reason: The formula A = πr^2 is used because it is the standard formula for calculating the area of a circle, where π (pi) is a constant approximately equal to 3.14159, and r is the radius of the circle. By substituting the given radius of 10 cm into the formula, we can calculate the area.\n",
      "\n",
      "**Step 2: Multiply the area by 100**\n",
      "1. Question: What is the result of multiplying the area of the circle by 100?\n",
      "2. Formula: Multiplication formula, result = area * 100\n",
      "3. Answer: result = 314.159 * 100 = 31415.9\n",
      "4. Reason: This step simply involves multiplying the area calculated in the previous step by 100, as per the problem's requirement. This operation scales the area by a factor of 100.\n",
      "\n"
     ]
    }
   ],
   "source": [
    "# Chanin of thought\n",
    "adv_cot_prompt = PromptTemplate(\n",
    "    input_variables=[\"input\"],\n",
    "    template=\"\"\"Answer the following question step by step. For each step: \n",
    "    1. State the question you are going to awnser\n",
    "    2. Write the formular you are going to use (if applicable)\n",
    "    3. Answer the question\n",
    "    4. Reason your answer\n",
    "    \n",
    "    Question: {input}\n",
    "    Solution:\"\"\"\n",
    ")\n",
    "\n",
    "question = \"I would like to calculate the area of a circle that has a radius of 10 cm and the multiply that result with 100\"\n",
    "adv_cot_chain = adv_cot_prompt | llm\n",
    "\n",
    "print(f\"Advanced COT: {adv_cot_chain.invoke(question).content}\\n\")"
   ]
  },
  {
   "cell_type": "markdown",
   "id": "83e62f7d-09bc-4db9-bc53-20405bb3a4e1",
   "metadata": {},
   "source": [
    "## Multiple reasoning paths"
   ]
  },
  {
   "cell_type": "code",
   "execution_count": 45,
   "id": "a7b3c9f1-36a4-4171-8b51-8e7811cb10c5",
   "metadata": {},
   "outputs": [
    {
     "name": "stdout",
     "output_type": "stream",
     "text": [
      "Path 0: To solve this problem using a unique approach, let's consider the concept of \"distance = speed × time\" and rearrange it to find the time.\n",
      "\n",
      "Reasoning Path 1: \n",
      "We can think of the car's journey as a fraction of its total speed. Since the car travels at 100 km/h, we can imagine that it covers 100 km in 1 hour. Now, we need to find out how long it takes to cover 180 km.\n",
      "\n",
      "Let's use a proportion to relate the distance and time:\n",
      "100 km / 1 hour = 180 km / x hours\n",
      "\n",
      "We can then cross-multiply to solve for x:\n",
      "100x = 180\n",
      "x = 180 / 100\n",
      "x = 1.8 hours\n",
      "\n",
      "Therefore, it takes the car 1.8 hours to cover 180 km.\n",
      "\n",
      "This approach uses a simple proportion to relate the given speed and distance to the unknown time, providing a unique and straightforward solution to the problem.\n",
      "\n",
      "\n",
      "Path 1: To solve this problem using a unique approach, let's consider the concept of unit rates. A unit rate is a ratio that has a denominator of 1. In this case, we want to find the time it takes to cover 180 km, so we'll use the unit rate of distance per hour.\n",
      "\n",
      "Given: Speed = 100 km/h\n",
      "\n",
      "We can rewrite this as a unit rate: 100 km / 1 hour\n",
      "\n",
      "Now, let's use this unit rate to find the time it takes to cover 180 km. We can set up a proportion:\n",
      "\n",
      "100 km / 1 hour = 180 km / x hours\n",
      "\n",
      "To solve for x, we can cross-multiply:\n",
      "\n",
      "100x = 180\n",
      "\n",
      "Now, divide both sides by 100:\n",
      "\n",
      "x = 180 / 100\n",
      "x = 1.8 hours\n",
      "\n",
      "Therefore, it takes 1.8 hours to cover 180 km at a speed of 100 km/h.\n",
      "\n",
      "This approach is unique because it uses the concept of unit rates to solve the problem, rather than simply dividing the distance by the speed. By using a proportion, we can clearly see the relationship between the distance, speed, and time, making it easier to understand and solve the problem.\n",
      "\n",
      "\n",
      "Path 2: To solve this problem using a unique approach, let's consider the concept of \"distance = speed × time\" and rearrange it to find the time.\n",
      "\n",
      "We know that distance (d) is equal to speed (s) multiplied by time (t): d = s × t\n",
      "\n",
      "In this case, the distance (d) is 180 km, and the speed (s) is 100 km/h. We want to find the time (t).\n",
      "\n",
      "Rearranging the formula to solve for time (t), we get: t = d ÷ s\n",
      "\n",
      "Now, let's plug in the values: t = 180 km ÷ 100 km/h\n",
      "\n",
      "To make the calculation more intuitive, let's think of it as: \"How many groups of 100 km are there in 180 km?\"\n",
      "\n",
      "Since 100 km/h is the speed, we can divide 180 km by 100 km/h to find the number of hours it takes to cover that distance.\n",
      "\n",
      "t = 180 km ÷ 100 km/h = 1.8 hours\n",
      "\n",
      "Therefore, it takes the car 1.8 hours to cover a distance of 180 km at a speed of 100 km/h.\n",
      "\n",
      "To convert this to a more familiar format, we can multiply the decimal hours by 60 to find the minutes: 0.8 hours × 60 = 48 minutes\n",
      "\n",
      "So, the car takes 1 hour and 48 minutes to cover 180 km at a speed of 100 km/h.\n",
      "\n",
      "\n"
     ]
    }
   ],
   "source": [
    "def generate_multiple_paths(task: str, num_paths: int):\n",
    "    prompt_template = PromptTemplate(\n",
    "        imput_variables=[\"task\", \"path_number\"],\n",
    "        template=\"\"\"Solve the following problem using a unique approach. This is reasoning path {path_number}.\n",
    "        Problem: {task}\n",
    "        Reasoning Path {path_number}:\"\"\"\n",
    "    )\n",
    "    paths = []\n",
    "    for i in range(num_paths):\n",
    "        chain = prompt_template | llm\n",
    "        resp = chain.invoke({\"task\": task, \"path_number\": i+1}).content\n",
    "        paths.append(resp)\n",
    "    return paths\n",
    "\n",
    "task = \"If a car travels 100 km/h, how long does it take to cover 180 km.?\"\n",
    "result = generate_multiple_paths(task, 3)\n",
    "\n",
    "for x, path in enumerate(result):\n",
    "    print(f\"Path {x}: {path}\\n\\n\")"
   ]
  },
  {
   "cell_type": "code",
   "execution_count": null,
   "id": "8e634f1a-199b-4241-a2c2-495444a96e41",
   "metadata": {},
   "outputs": [],
   "source": []
  }
 ],
 "metadata": {
  "kernelspec": {
   "display_name": "Python 3 (ipykernel)",
   "language": "python",
   "name": "python3"
  },
  "language_info": {
   "codemirror_mode": {
    "name": "ipython",
    "version": 3
   },
   "file_extension": ".py",
   "mimetype": "text/x-python",
   "name": "python",
   "nbconvert_exporter": "python",
   "pygments_lexer": "ipython3",
   "version": "3.12.3"
  }
 },
 "nbformat": 4,
 "nbformat_minor": 5
}
